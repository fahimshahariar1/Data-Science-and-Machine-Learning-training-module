{
 "cells": [
  {
   "cell_type": "code",
   "execution_count": 1,
   "id": "e4210475-f5ea-47d3-b050-6b0e91054630",
   "metadata": {},
   "outputs": [],
   "source": [
    "import math\n",
    "import numpy\n",
    "import sympy"
   ]
  },
  {
   "cell_type": "code",
   "execution_count": 3,
   "id": "2fa1140a-4a1f-40ad-bb2e-e70167547201",
   "metadata": {},
   "outputs": [
    {
     "data": {
      "text/plain": [
       "0.5877852522924731"
      ]
     },
     "execution_count": 3,
     "metadata": {},
     "output_type": "execute_result"
    }
   ],
   "source": [
    "math.sin(math.pi/5)  #we can use scinetific math operations through this"
   ]
  },
  {
   "cell_type": "code",
   "execution_count": 5,
   "id": "c6eacf9d-16be-40d6-836c-3e51e673f3f6",
   "metadata": {},
   "outputs": [
    {
     "data": {
      "text/latex": [
       "$\\displaystyle \\sqrt{\\frac{5}{8} - \\frac{\\sqrt{5}}{8}}$"
      ],
      "text/plain": [
       "sqrt(5/8 - sqrt(5)/8)"
      ]
     },
     "execution_count": 5,
     "metadata": {},
     "output_type": "execute_result"
    }
   ],
   "source": [
    "sympy.sin(sympy.pi/5)  #if we want to use more symbolic mathematics"
   ]
  },
  {
   "cell_type": "code",
   "execution_count": 7,
   "id": "51d4c3f7-b64a-44e2-baf7-93a3d4ffb890",
   "metadata": {},
   "outputs": [],
   "source": [
    "#functions\n",
    "\n",
    "def f(x):\n",
    "    return 1/(5+x)"
   ]
  },
  {
   "cell_type": "code",
   "execution_count": 9,
   "id": "14578130-4085-49b3-88b8-4e0af59c90e8",
   "metadata": {},
   "outputs": [
    {
     "data": {
      "text/plain": [
       "0.1"
      ]
     },
     "execution_count": 9,
     "metadata": {},
     "output_type": "execute_result"
    }
   ],
   "source": [
    "f(5)"
   ]
  },
  {
   "cell_type": "code",
   "execution_count": 11,
   "id": "68305af8-a4b1-4ab3-a933-840ccb0ac469",
   "metadata": {},
   "outputs": [],
   "source": [
    "x = sympy.symbols('x') #we can use this for any mathematical equation or operation"
   ]
  },
  {
   "cell_type": "code",
   "execution_count": 13,
   "id": "01a3c521-0183-44bc-afe5-c9743074892d",
   "metadata": {},
   "outputs": [
    {
     "data": {
      "text/latex": [
       "$\\displaystyle \\frac{1}{x + 5}$"
      ],
      "text/plain": [
       "1/(x + 5)"
      ]
     },
     "execution_count": 13,
     "metadata": {},
     "output_type": "execute_result"
    }
   ],
   "source": [
    "f(x)"
   ]
  },
  {
   "cell_type": "code",
   "execution_count": null,
   "id": "19040f08-2e4b-45ea-89d7-463a5fd4f43f",
   "metadata": {},
   "outputs": [],
   "source": []
  }
 ],
 "metadata": {
  "kernelspec": {
   "display_name": "Python 3 (ipykernel)",
   "language": "python",
   "name": "python3"
  },
  "language_info": {
   "codemirror_mode": {
    "name": "ipython",
    "version": 3
   },
   "file_extension": ".py",
   "mimetype": "text/x-python",
   "name": "python",
   "nbconvert_exporter": "python",
   "pygments_lexer": "ipython3",
   "version": "3.12.4"
  }
 },
 "nbformat": 4,
 "nbformat_minor": 5
}
