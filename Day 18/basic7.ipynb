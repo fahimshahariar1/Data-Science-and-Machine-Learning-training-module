{
 "cells": [
  {
   "cell_type": "code",
   "execution_count": 1,
   "id": "13bfdbe4-dd1c-4a47-b5c6-9e7ee7cf7975",
   "metadata": {},
   "outputs": [],
   "source": [
    "#assignment operator\n",
    "\n",
    "x = 5\n",
    "y = 10"
   ]
  },
  {
   "cell_type": "code",
   "execution_count": 3,
   "id": "5732b67a-39e7-481f-80a3-6fabe289a7d3",
   "metadata": {},
   "outputs": [
    {
     "data": {
      "text/plain": [
       "15"
      ]
     },
     "execution_count": 3,
     "metadata": {},
     "output_type": "execute_result"
    }
   ],
   "source": [
    "#addtion assisgnment\n",
    "x+y"
   ]
  },
  {
   "cell_type": "code",
   "execution_count": 15,
   "id": "77100ec0-5737-4ac6-8321-d15318dcc191",
   "metadata": {},
   "outputs": [
    {
     "data": {
      "text/plain": [
       "0"
      ]
     },
     "execution_count": 15,
     "metadata": {},
     "output_type": "execute_result"
    }
   ],
   "source": [
    "#subtraction\n",
    "x-y"
   ]
  },
  {
   "cell_type": "code",
   "execution_count": 17,
   "id": "679f994b-e794-47a1-8a81-5e97c9f8c9c1",
   "metadata": {},
   "outputs": [
    {
     "data": {
      "text/plain": [
       "25"
      ]
     },
     "execution_count": 17,
     "metadata": {},
     "output_type": "execute_result"
    }
   ],
   "source": [
    "#multuiplication\n",
    "x * y"
   ]
  },
  {
   "cell_type": "code",
   "execution_count": 21,
   "id": "c09cb7d8-b6cc-45bb-8684-ef4084b91dba",
   "metadata": {},
   "outputs": [
    {
     "data": {
      "text/plain": [
       "1.0"
      ]
     },
     "execution_count": 21,
     "metadata": {},
     "output_type": "execute_result"
    }
   ],
   "source": [
    "#division\n",
    "x /y"
   ]
  },
  {
   "cell_type": "code",
   "execution_count": 27,
   "id": "c11d4a7c-c892-449b-a17d-f3c5150f1a14",
   "metadata": {},
   "outputs": [
    {
     "data": {
      "text/plain": [
       "True"
      ]
     },
     "execution_count": 27,
     "metadata": {},
     "output_type": "execute_result"
    }
   ],
   "source": [
    "#logical\n",
    "#and\n",
    "5 == 5 and 6 == 6"
   ]
  },
  {
   "cell_type": "code",
   "execution_count": 29,
   "id": "cca05188-a36b-4ee7-84d8-2aceb6cd4bdc",
   "metadata": {},
   "outputs": [
    {
     "data": {
      "text/plain": [
       "True"
      ]
     },
     "execution_count": 29,
     "metadata": {},
     "output_type": "execute_result"
    }
   ],
   "source": [
    "#or\n",
    "5 == 5 or 6 == 6"
   ]
  },
  {
   "cell_type": "code",
   "execution_count": 31,
   "id": "227c44de-c409-4e37-aa4a-4395ba27a397",
   "metadata": {},
   "outputs": [
    {
     "data": {
      "text/plain": [
       "False"
      ]
     },
     "execution_count": 31,
     "metadata": {},
     "output_type": "execute_result"
    }
   ],
   "source": [
    "#not\n",
    "5 != 5"
   ]
  },
  {
   "cell_type": "code",
   "execution_count": 35,
   "id": "09c3de3f-b6f3-48d7-a6a0-58b7a289243a",
   "metadata": {},
   "outputs": [
    {
     "data": {
      "text/plain": [
       "True"
      ]
     },
     "execution_count": 35,
     "metadata": {},
     "output_type": "execute_result"
    }
   ],
   "source": [
    "#membership operator\n",
    "#in\n",
    "\n",
    "'a' in \"apple\""
   ]
  },
  {
   "cell_type": "code",
   "execution_count": 37,
   "id": "1bae8a19-9650-4ba2-82c9-a421281884f3",
   "metadata": {},
   "outputs": [
    {
     "data": {
      "text/plain": [
       "False"
      ]
     },
     "execution_count": 37,
     "metadata": {},
     "output_type": "execute_result"
    }
   ],
   "source": [
    "'b' in \"apple\""
   ]
  },
  {
   "cell_type": "code",
   "execution_count": 41,
   "id": "525a37c1-b240-4597-9334-b6fdf20980ac",
   "metadata": {},
   "outputs": [
    {
     "data": {
      "text/plain": [
       "True"
      ]
     },
     "execution_count": 41,
     "metadata": {},
     "output_type": "execute_result"
    }
   ],
   "source": [
    "#identitiy\n",
    "#is\n",
    "x = 5\n",
    "y = x\n",
    "\n",
    "y is x"
   ]
  },
  {
   "cell_type": "code",
   "execution_count": 43,
   "id": "852a6e82-2794-4586-b261-d9a7a78fe0f9",
   "metadata": {},
   "outputs": [
    {
     "name": "stdout",
     "output_type": "stream",
     "text": [
      "You are Younger\n"
     ]
    }
   ],
   "source": [
    "#conditional\n",
    "#if statement\n",
    "age = 20\n",
    "\n",
    "if age > 20:\n",
    "    print(\"You are Older\")\n",
    "else:\n",
    "    print(\"You are Younger\")"
   ]
  },
  {
   "cell_type": "code",
   "execution_count": 45,
   "id": "ed214bf6-add1-4873-ade5-69c49d556677",
   "metadata": {},
   "outputs": [
    {
     "name": "stdout",
     "output_type": "stream",
     "text": [
      "1\n",
      "2\n",
      "3\n",
      "4\n",
      "5\n"
     ]
    }
   ],
   "source": [
    "#loop\n",
    "\n",
    "#for\n",
    "\n",
    "x = [1,2,3,4,5]\n",
    "\n",
    "for i in x:\n",
    "\n",
    "    if i > 4 \n",
    "    print(i)"
   ]
  },
  {
   "cell_type": "code",
   "execution_count": null,
   "id": "30dc0bf9-c595-44ff-952f-aa85fe2dac92",
   "metadata": {},
   "outputs": [],
   "source": []
  }
 ],
 "metadata": {
  "kernelspec": {
   "display_name": "Python 3 (ipykernel)",
   "language": "python",
   "name": "python3"
  },
  "language_info": {
   "codemirror_mode": {
    "name": "ipython",
    "version": 3
   },
   "file_extension": ".py",
   "mimetype": "text/x-python",
   "name": "python",
   "nbconvert_exporter": "python",
   "pygments_lexer": "ipython3",
   "version": "3.12.4"
  }
 },
 "nbformat": 4,
 "nbformat_minor": 5
}
