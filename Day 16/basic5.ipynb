{
 "cells": [
  {
   "cell_type": "code",
   "execution_count": 1,
   "id": "fea192cc-da6c-4fe4-86f5-16c1c9d954ce",
   "metadata": {},
   "outputs": [
    {
     "name": "stdin",
     "output_type": "stream",
     "text": [
      "Enter your name:  Fahim Shahariar\n"
     ]
    },
    {
     "name": "stdout",
     "output_type": "stream",
     "text": [
      "Hi,Fahim Shahariar\n"
     ]
    }
   ],
   "source": [
    "#Inout output\n",
    "\n",
    "message = input(\"Enter your name: \")\n",
    "print(\"Hi,\" + message)"
   ]
  },
  {
   "cell_type": "code",
   "execution_count": 13,
   "id": "7cb8f539-893e-4e75-85db-07ca1bba30d0",
   "metadata": {},
   "outputs": [
    {
     "name": "stdin",
     "output_type": "stream",
     "text": [
      "Enter a number:  5\n"
     ]
    },
    {
     "name": "stdout",
     "output_type": "stream",
     "text": [
      "5 & 5 are equal\n"
     ]
    }
   ],
   "source": [
    "#if else\n",
    "\n",
    "userInput = int(input(\"Enter a number: \"))\n",
    "num = 5\n",
    "\n",
    "user = str(userInput)\n",
    "number = str(num)\n",
    "\n",
    "if num > userInput:\n",
    "    print(number + \" Is Greater than \" + user)\n",
    "\n",
    "elif userInput > num:\n",
    "    print(user + \" Is Greater than \" + number)\n",
    "    \n",
    "else:\n",
    "    print(number + \" & \" + user + \" are equal\")"
   ]
  },
  {
   "cell_type": "code",
   "execution_count": 17,
   "id": "5a3c322a-eee6-4de4-839a-2fb5b05eb2af",
   "metadata": {},
   "outputs": [
    {
     "name": "stdout",
     "output_type": "stream",
     "text": [
      "Banana\n",
      "Mango\n",
      "Apple\n"
     ]
    }
   ],
   "source": [
    "# For loop\n",
    "\n",
    "fruits = [\"Banana\", \"Mango\", \"Apple\"]\n",
    "\n",
    "for items in fruits:\n",
    "\n",
    "    if item == \"Mang\"\n",
    "    print(items)"
   ]
  },
  {
   "cell_type": "code",
   "execution_count": null,
   "id": "358e712c-dd6f-43c7-994a-30ec61c5a26c",
   "metadata": {},
   "outputs": [],
   "source": []
  }
 ],
 "metadata": {
  "kernelspec": {
   "display_name": "Python 3 (ipykernel)",
   "language": "python",
   "name": "python3"
  },
  "language_info": {
   "codemirror_mode": {
    "name": "ipython",
    "version": 3
   },
   "file_extension": ".py",
   "mimetype": "text/x-python",
   "name": "python",
   "nbconvert_exporter": "python",
   "pygments_lexer": "ipython3",
   "version": "3.12.4"
  }
 },
 "nbformat": 4,
 "nbformat_minor": 5
}
