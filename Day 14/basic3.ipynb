{
 "cells": [
  {
   "cell_type": "code",
   "execution_count": 3,
   "id": "ebdb27b9-a4b2-4afc-abe0-cae84571c654",
   "metadata": {},
   "outputs": [
    {
     "data": {
      "text/plain": [
       "8.6"
      ]
     },
     "execution_count": 3,
     "metadata": {},
     "output_type": "execute_result"
    }
   ],
   "source": [
    "#floating value math\n",
    "\n",
    "5.8 + 2.8"
   ]
  },
  {
   "cell_type": "code",
   "execution_count": 5,
   "id": "99425291-9fe4-4cc5-b428-775292afdeb1",
   "metadata": {},
   "outputs": [
    {
     "data": {
      "text/plain": [
       "2.23606797749979"
      ]
     },
     "execution_count": 5,
     "metadata": {},
     "output_type": "execute_result"
    }
   ],
   "source": [
    "#power\n",
    "5.0 ** 0.5"
   ]
  },
  {
   "cell_type": "code",
   "execution_count": 7,
   "id": "a348ac3d-2dca-4264-be4d-ba439b8b2880",
   "metadata": {},
   "outputs": [
    {
     "data": {
      "text/plain": [
       "2"
      ]
     },
     "execution_count": 7,
     "metadata": {},
     "output_type": "execute_result"
    }
   ],
   "source": [
    "round (5.0 ** 0.5)"
   ]
  },
  {
   "cell_type": "code",
   "execution_count": 9,
   "id": "36c24d0e-cfed-471f-85d3-9d3523276b59",
   "metadata": {},
   "outputs": [
    {
     "data": {
      "text/plain": [
       "2.24"
      ]
     },
     "execution_count": 9,
     "metadata": {},
     "output_type": "execute_result"
    }
   ],
   "source": [
    "round (5.0 ** 0.5, 2)"
   ]
  },
  {
   "cell_type": "code",
   "execution_count": 13,
   "id": "fc2bf1bd-9db4-4c21-8122-dda56fcbb3f6",
   "metadata": {},
   "outputs": [
    {
     "data": {
      "text/plain": [
       "2.2"
      ]
     },
     "execution_count": 13,
     "metadata": {},
     "output_type": "execute_result"
    }
   ],
   "source": [
    "#absolute value\n",
    "\n",
    "abs(-2.2)"
   ]
  },
  {
   "cell_type": "code",
   "execution_count": 21,
   "id": "2a4daaaf-e6c8-475e-8d7c-0f15a6740797",
   "metadata": {},
   "outputs": [
    {
     "data": {
      "text/plain": [
       "50.0"
      ]
     },
     "execution_count": 21,
     "metadata": {},
     "output_type": "execute_result"
    }
   ],
   "source": [
    "#Scientific Notation\n",
    "\n",
    "5e1"
   ]
  },
  {
   "cell_type": "code",
   "execution_count": 19,
   "id": "cd2458fb-9816-403d-ad2d-4c934aa91418",
   "metadata": {},
   "outputs": [
    {
     "data": {
      "text/plain": [
       "0.5"
      ]
     },
     "execution_count": 19,
     "metadata": {},
     "output_type": "execute_result"
    }
   ],
   "source": [
    "5e-1"
   ]
  },
  {
   "cell_type": "code",
   "execution_count": 23,
   "id": "c7fade9e-7864-4a8a-9d81-d006523970a1",
   "metadata": {},
   "outputs": [
    {
     "data": {
      "text/plain": [
       "3.141592653589793"
      ]
     },
     "execution_count": 23,
     "metadata": {},
     "output_type": "execute_result"
    }
   ],
   "source": [
    "#importing packages\n",
    "\n",
    "import math\n",
    "import pandas\n",
    "\n",
    "math.pi"
   ]
  },
  {
   "cell_type": "code",
   "execution_count": null,
   "id": "99898f1f-ad87-4a96-bccb-cf518298a73d",
   "metadata": {},
   "outputs": [],
   "source": []
  }
 ],
 "metadata": {
  "kernelspec": {
   "display_name": "Python 3 (ipykernel)",
   "language": "python",
   "name": "python3"
  },
  "language_info": {
   "codemirror_mode": {
    "name": "ipython",
    "version": 3
   },
   "file_extension": ".py",
   "mimetype": "text/x-python",
   "name": "python",
   "nbconvert_exporter": "python",
   "pygments_lexer": "ipython3",
   "version": "3.12.4"
  }
 },
 "nbformat": 4,
 "nbformat_minor": 5
}
