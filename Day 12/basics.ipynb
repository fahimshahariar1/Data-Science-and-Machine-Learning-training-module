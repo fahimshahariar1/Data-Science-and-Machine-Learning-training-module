{
 "cells": [
  {
   "cell_type": "code",
   "execution_count": 21,
   "id": "05705632-cb28-4559-bc92-e161efb90099",
   "metadata": {},
   "outputs": [
    {
     "name": "stdout",
     "output_type": "stream",
     "text": [
      "50\n",
      "The best in the world is Fahim Shahariar\n"
     ]
    }
   ],
   "source": [
    "#variable\n",
    "num1 = 20\n",
    "num2 = 30\n",
    "name = \"Fahim Shahariar\"\n",
    "\n",
    "print (num1 + num2)\n",
    "\n",
    "print (\"The best in the world is\", name)"
   ]
  },
  {
   "cell_type": "code",
   "execution_count": 7,
   "id": "fc6f1446-7993-4591-b6f9-7ea3b759279e",
   "metadata": {},
   "outputs": [
    {
     "name": "stdout",
     "output_type": "stream",
     "text": [
      "50\n",
      "-10\n",
      "600\n",
      "0.6666666666666666\n"
     ]
    }
   ],
   "source": [
    "#mathametic operations\n",
    "num1 = 20\n",
    "num2 = 30\n",
    "\n",
    "print(num1 + num2)\n",
    "print(num1 - num2)\n",
    "print(num1 * num2)\n",
    "print(num1 / num2)"
   ]
  },
  {
   "cell_type": "code",
   "execution_count": 9,
   "id": "02542892-5712-4f39-97bd-e55e5fc2b93b",
   "metadata": {},
   "outputs": [
    {
     "name": "stdout",
     "output_type": "stream",
     "text": [
      "['False', 'None', 'True', 'and', 'as', 'assert', 'async', 'await', 'break', 'class', 'continue', 'def', 'del', 'elif', 'else', 'except', 'finally', 'for', 'from', 'global', 'if', 'import', 'in', 'is', 'lambda', 'nonlocal', 'not', 'or', 'pass', 'raise', 'return', 'try', 'while', 'with', 'yield']\n"
     ]
    }
   ],
   "source": [
    "import keyword\n",
    "print(keyword.kwlist)"
   ]
  },
  {
   "cell_type": "code",
   "execution_count": 11,
   "id": "7121ed5e-f9fc-48e4-b53a-fa96b2195d7a",
   "metadata": {},
   "outputs": [
    {
     "data": {
      "text/plain": [
       "35"
      ]
     },
     "execution_count": 11,
     "metadata": {},
     "output_type": "execute_result"
    }
   ],
   "source": [
    "len(keyword.kwlist)"
   ]
  },
  {
   "cell_type": "code",
   "execution_count": 34,
   "id": "1a7c2653-aaa0-43e7-b342-b54c48c84a41",
   "metadata": {},
   "outputs": [
    {
     "data": {
      "text/plain": [
       "False"
      ]
     },
     "execution_count": 34,
     "metadata": {},
     "output_type": "execute_result"
    }
   ],
   "source": [
    "#arguments\n",
    "\n",
    "\"Fahim\" == \"Fahim\"\n",
    "3 < 7\n",
    "5 > 8\n"
   ]
  },
  {
   "cell_type": "code",
   "execution_count": 38,
   "id": "4fef512e-9554-44bc-9181-382b94354cd1",
   "metadata": {},
   "outputs": [
    {
     "data": {
      "text/plain": [
       "str"
      ]
     },
     "execution_count": 38,
     "metadata": {},
     "output_type": "execute_result"
    }
   ],
   "source": [
    "type(name)"
   ]
  },
  {
   "cell_type": "code",
   "execution_count": null,
   "id": "eb577fcb-f540-4e00-9b22-55f3385b7158",
   "metadata": {},
   "outputs": [],
   "source": []
  }
 ],
 "metadata": {
  "kernelspec": {
   "display_name": "Python 3 (ipykernel)",
   "language": "python",
   "name": "python3"
  },
  "language_info": {
   "codemirror_mode": {
    "name": "ipython",
    "version": 3
   },
   "file_extension": ".py",
   "mimetype": "text/x-python",
   "name": "python",
   "nbconvert_exporter": "python",
   "pygments_lexer": "ipython3",
   "version": "3.12.4"
  }
 },
 "nbformat": 4,
 "nbformat_minor": 5
}
