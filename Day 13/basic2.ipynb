{
 "cells": [
  {
   "cell_type": "code",
   "execution_count": 17,
   "id": "0a12da86-3b18-4c21-ab52-c4708f3221dd",
   "metadata": {},
   "outputs": [
    {
     "name": "stdout",
     "output_type": "stream",
     "text": [
      "1999\n",
      "<class 'int'>\n",
      "Fahim\n",
      "<class 'str'>\n",
      "3.67\n",
      "<class 'float'>\n",
      "False\n",
      "<class 'bool'>\n"
     ]
    }
   ],
   "source": [
    "#data types\n",
    "\n",
    "a = 1999\n",
    "b = \"Fahim\"\n",
    "c = 3.67\n",
    "d = 5 > 6\n",
    "\n",
    "print(a)\n",
    "print (type(a))\n",
    "print(b)\n",
    "print (type(b))\n",
    "print(c)\n",
    "print (type(c))\n",
    "print(d)\n",
    "print (type(d))"
   ]
  },
  {
   "cell_type": "code",
   "execution_count": 21,
   "id": "03525aa7-d068-4472-a1ce-74db49393eb1",
   "metadata": {},
   "outputs": [
    {
     "name": "stdout",
     "output_type": "stream",
     "text": [
      "['Pranto', 'Sayem', 'Arif', 'Nafi', 'Siyam', 'Tauhid']\n"
     ]
    }
   ],
   "source": [
    "friends = [\"Pranto\", \"Sayem\", \"Arif\", \"Nafi\", \"Siyam\"]\n",
    "\n",
    "friends.append(\"Tauhid\")\n",
    "print(friends)"
   ]
  },
  {
   "cell_type": "code",
   "execution_count": null,
   "id": "2c0cae43-2a75-4184-97e3-3d7c0907cefb",
   "metadata": {},
   "outputs": [],
   "source": []
  }
 ],
 "metadata": {
  "kernelspec": {
   "display_name": "Python 3 (ipykernel)",
   "language": "python",
   "name": "python3"
  },
  "language_info": {
   "codemirror_mode": {
    "name": "ipython",
    "version": 3
   },
   "file_extension": ".py",
   "mimetype": "text/x-python",
   "name": "python",
   "nbconvert_exporter": "python",
   "pygments_lexer": "ipython3",
   "version": "3.12.4"
  }
 },
 "nbformat": 4,
 "nbformat_minor": 5
}
